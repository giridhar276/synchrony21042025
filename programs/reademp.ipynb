{
 "cells": [
  {
   "cell_type": "code",
   "execution_count": null,
   "id": "9519f0ce",
   "metadata": {},
   "outputs": [],
   "source": [
    "import pandas as pd"
   ]
  },
  {
   "cell_type": "code",
   "execution_count": null,
   "id": "3a4bfd00",
   "metadata": {},
   "outputs": [],
   "source": [
    "df = pd.read_csv(\"employeeinfo.csv\")\n",
    "\n"
   ]
  },
  {
   "cell_type": "code",
   "execution_count": null,
   "id": "10e38756",
   "metadata": {},
   "outputs": [],
   "source": [
    "df = pd.read_csv(\"https://raw.githubusercontent.com/giridhar276/synchrony21042025/refs/heads/main/employeeinfo.csv\")\n",
    "df"
   ]
  },
  {
   "cell_type": "code",
   "execution_count": null,
   "id": "f0e17577",
   "metadata": {},
   "outputs": [],
   "source": [
    "type(df)\n"
   ]
  },
  {
   "cell_type": "code",
   "execution_count": null,
   "id": "e88297c0",
   "metadata": {},
   "outputs": [],
   "source": [
    "df"
   ]
  },
  {
   "cell_type": "code",
   "execution_count": null,
   "id": "56c7fb50",
   "metadata": {},
   "outputs": [],
   "source": [
    "# display first 5 records\n",
    "df.head(10)"
   ]
  },
  {
   "cell_type": "code",
   "execution_count": null,
   "id": "47827a02",
   "metadata": {},
   "outputs": [],
   "source": [
    "# display bottom 10 records\n",
    "df.tail(10)"
   ]
  },
  {
   "cell_type": "code",
   "execution_count": null,
   "id": "184a7542",
   "metadata": {},
   "outputs": [],
   "source": [
    "# display all the column nams\n",
    "df.columns"
   ]
  },
  {
   "cell_type": "code",
   "execution_count": null,
   "id": "bcf70355",
   "metadata": {},
   "outputs": [],
   "source": [
    "# display (rows,columns)\n",
    "df.shape  "
   ]
  },
  {
   "cell_type": "code",
   "execution_count": null,
   "id": "f1b3c70e",
   "metadata": {},
   "outputs": [],
   "source": [
    "# know your datatypes\n",
    "# will just display datatypes\n",
    "df.dtypes"
   ]
  },
  {
   "cell_type": "code",
   "execution_count": null,
   "id": "529a8c00",
   "metadata": {},
   "outputs": [],
   "source": [
    "# display more information\n",
    "df.info()"
   ]
  },
  {
   "cell_type": "code",
   "execution_count": null,
   "id": "76487e5c",
   "metadata": {},
   "outputs": [],
   "source": [
    "# get the overview of dataframe - it is only for integer columns\n",
    "df.describe()"
   ]
  },
  {
   "cell_type": "code",
   "execution_count": null,
   "id": "e4ce340a",
   "metadata": {},
   "outputs": [],
   "source": [
    "df.describe(include='all')  # will display both numerical and string columns"
   ]
  },
  {
   "cell_type": "code",
   "execution_count": null,
   "id": "3efa17e5",
   "metadata": {},
   "outputs": [],
   "source": [
    "## displaying only one column\n",
    "# select workclass from tablename\n",
    "df['workclass']"
   ]
  },
  {
   "cell_type": "code",
   "execution_count": null,
   "id": "b9c33c7a",
   "metadata": {},
   "outputs": [],
   "source": [
    "df[['workclass','education']]"
   ]
  },
  {
   "cell_type": "code",
   "execution_count": null,
   "id": "0f17d63d",
   "metadata": {},
   "outputs": [],
   "source": [
    "df[['workclass','education','age']]"
   ]
  },
  {
   "cell_type": "code",
   "execution_count": null,
   "id": "a1bd2c77",
   "metadata": {},
   "outputs": [],
   "source": [
    "#writing the output to external file\n",
    "output = df[['workclass','education','age']]\n",
    "output.to_csv(\"output.csv\")"
   ]
  },
  {
   "cell_type": "code",
   "execution_count": null,
   "id": "7163a544",
   "metadata": {},
   "outputs": [],
   "source": [
    "#writing the output to external file\n",
    "df[['workclass','education','age']].to_excel(\"finaloutput.csv\")"
   ]
  },
  {
   "cell_type": "code",
   "execution_count": null,
   "id": "6a7b96ee",
   "metadata": {},
   "outputs": [],
   "source": [
    "\n",
    "# condition\n",
    "condition = df['workclass'] == ' Private'\n",
    "df[condition]\n",
    "\n",
    "## writing in single\n",
    "df[df['workclass'] == ' Private']"
   ]
  },
  {
   "cell_type": "code",
   "execution_count": null,
   "id": "ab312c3a",
   "metadata": {},
   "outputs": [],
   "source": [
    "cond1 = df['workclass'] == ' Private'\n",
    "cond2 = df['gender'] == ' Female'\n",
    "\n",
    "df[cond1 & cond2]"
   ]
  },
  {
   "cell_type": "code",
   "execution_count": null,
   "id": "1a904644",
   "metadata": {},
   "outputs": [],
   "source": [
    "## writing both conditions in same line\n",
    "df[(df['workclass'] == ' Private') & (df['gender'] == ' Female')]\n",
    "#syntax   :    df[(cond1) & (cond2)]"
   ]
  },
  {
   "cell_type": "code",
   "execution_count": null,
   "id": "450b4b33",
   "metadata": {},
   "outputs": [],
   "source": [
    "df['workclass']"
   ]
  },
  {
   "cell_type": "code",
   "execution_count": null,
   "id": "88227b2d",
   "metadata": {},
   "outputs": [],
   "source": [
    "df['gender'].value_counts()"
   ]
  },
  {
   "cell_type": "code",
   "execution_count": null,
   "id": "5fec7da2",
   "metadata": {},
   "outputs": [],
   "source": [
    "df['workclass'].value_counts()"
   ]
  },
  {
   "cell_type": "code",
   "execution_count": null,
   "id": "84d28405",
   "metadata": {},
   "outputs": [],
   "source": [
    "#df.iloc[rows,columns]\n",
    "df.iloc[4:9]  # all the columns are displayed\n"
   ]
  },
  {
   "cell_type": "code",
   "execution_count": null,
   "id": "7fe8f2f3",
   "metadata": {},
   "outputs": [],
   "source": [
    "df.iloc[4:9,3:6] "
   ]
  },
  {
   "cell_type": "code",
   "execution_count": null,
   "id": "4e8092af",
   "metadata": {},
   "outputs": [],
   "source": [
    "#df.loc[rows,columns]\n",
    "df.loc[4:9 ]  # giving rows only"
   ]
  },
  {
   "cell_type": "code",
   "execution_count": null,
   "id": "ef74741c",
   "metadata": {},
   "outputs": [],
   "source": [
    "df.loc[4:9 , \"workclass\"]"
   ]
  },
  {
   "cell_type": "code",
   "execution_count": null,
   "id": "c6d4b2f4",
   "metadata": {},
   "outputs": [],
   "source": [
    "df.loc[4:9,[\"workclass\",\"fnlwgt\",\"education\"]]"
   ]
  },
  {
   "cell_type": "code",
   "execution_count": null,
   "id": "fea8e597",
   "metadata": {},
   "outputs": [],
   "source": [
    "df.loc[:,\"workclass\"]"
   ]
  },
  {
   "cell_type": "code",
   "execution_count": null,
   "id": "348a8d0f",
   "metadata": {},
   "outputs": [],
   "source": [
    "df"
   ]
  },
  {
   "cell_type": "code",
   "execution_count": null,
   "id": "93fbfe21",
   "metadata": {},
   "outputs": [],
   "source": [
    "df.sort_values('age')  # ascending order\n",
    "df.sort_values('age',ascending=False)  # descending order"
   ]
  },
  {
   "cell_type": "code",
   "execution_count": null,
   "id": "38763464",
   "metadata": {},
   "outputs": [],
   "source": [
    "# sorting based on age and educational num\n",
    "df.sort_values(['age','educational-num'])"
   ]
  },
  {
   "cell_type": "code",
   "execution_count": null,
   "id": "a8f48573",
   "metadata": {},
   "outputs": [],
   "source": [
    "# dropping unwanted columns\n",
    "df.drop(columns = 'education')\n",
    "\n",
    "df.drop(columns = ['education','age'])"
   ]
  },
  {
   "cell_type": "code",
   "execution_count": null,
   "id": "8ef7f91c",
   "metadata": {},
   "outputs": [],
   "source": [
    "df.shape"
   ]
  },
  {
   "cell_type": "code",
   "execution_count": null,
   "id": "4159b638",
   "metadata": {},
   "outputs": [],
   "source": [
    "df.drop_duplicates()"
   ]
  },
  {
   "cell_type": "code",
   "execution_count": null,
   "id": "3c6914d9",
   "metadata": {},
   "outputs": [],
   "source": [
    "df\n"
   ]
  },
  {
   "cell_type": "code",
   "execution_count": null,
   "id": "10980a93",
   "metadata": {},
   "outputs": [],
   "source": [
    "df.sample(frac= 0.5)"
   ]
  },
  {
   "cell_type": "code",
   "execution_count": null,
   "id": "f975f42a",
   "metadata": {},
   "outputs": [],
   "source": [
    "df['workclass'].unique()"
   ]
  },
  {
   "cell_type": "code",
   "execution_count": null,
   "id": "de4699ea",
   "metadata": {},
   "outputs": [],
   "source": [
    "df['workclass'].nunique()\n",
    "\n",
    "#or\n",
    "len(df['workclass'].unique())"
   ]
  },
  {
   "cell_type": "code",
   "execution_count": null,
   "id": "f7c1a7a7",
   "metadata": {},
   "outputs": [],
   "source": []
  },
  {
   "cell_type": "code",
   "execution_count": null,
   "id": "e147afa7",
   "metadata": {},
   "outputs": [],
   "source": []
  }
 ],
 "metadata": {
  "kernelspec": {
   "display_name": "Python 3",
   "language": "python",
   "name": "python3"
  },
  "language_info": {
   "codemirror_mode": {
    "name": "ipython",
    "version": 3
   },
   "file_extension": ".py",
   "mimetype": "text/x-python",
   "name": "python",
   "nbconvert_exporter": "python",
   "pygments_lexer": "ipython3",
   "version": "3.9.6"
  }
 },
 "nbformat": 4,
 "nbformat_minor": 5
}
